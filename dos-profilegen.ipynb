{
 "cells": [
  {
   "cell_type": "code",
   "execution_count": 1,
   "metadata": {},
   "outputs": [],
   "source": [
    "import pandas as pd\n",
    "import numpy as np\n",
    "import os"
   ]
  },
  {
   "cell_type": "code",
   "execution_count": 2,
   "metadata": {},
   "outputs": [],
   "source": [
    "dos_csv = os.path.join('data', 'Other Companies.csv')"
   ]
  },
  {
   "cell_type": "code",
   "execution_count": 3,
   "metadata": {},
   "outputs": [],
   "source": [
    "df = pd.read_csv(dos_csv)"
   ]
  },
  {
   "cell_type": "code",
   "execution_count": 4,
   "metadata": {},
   "outputs": [],
   "source": [
    "df = df[['Company Trimmed']]"
   ]
  },
  {
   "cell_type": "code",
   "execution_count": 5,
   "metadata": {},
   "outputs": [
    {
     "data": {
      "text/plain": [
       "487"
      ]
     },
     "execution_count": 5,
     "metadata": {},
     "output_type": "execute_result"
    }
   ],
   "source": [
    "len(df)"
   ]
  },
  {
   "cell_type": "code",
   "execution_count": 6,
   "metadata": {},
   "outputs": [],
   "source": [
    "df.drop_duplicates(subset=['Company Trimmed'], keep='first', inplace=True)"
   ]
  },
  {
   "cell_type": "code",
   "execution_count": 7,
   "metadata": {},
   "outputs": [
    {
     "data": {
      "text/plain": [
       "442"
      ]
     },
     "execution_count": 7,
     "metadata": {},
     "output_type": "execute_result"
    }
   ],
   "source": [
    "len(df)"
   ]
  },
  {
   "cell_type": "code",
   "execution_count": 9,
   "metadata": {},
   "outputs": [],
   "source": [
    "#normal distribution\n",
    "mu, sigma = 25000, 11000\n",
    "profit_arr = np.random.normal(loc=mu, scale=sigma, size=len(df)).round(2)\n",
    "profit_df = pd.DataFrame(profit_arr, columns=['Profit'])"
   ]
  },
  {
   "cell_type": "code",
   "execution_count": 11,
   "metadata": {},
   "outputs": [
    {
     "data": {
      "image/png": "[encoded data removed]",
      "text/plain": [
       "<matplotlib.figure.Figure at 0x1e826337f60>"
      ]
     },
     "metadata": {},
     "output_type": "display_data"
    }
   ],
   "source": [
    "#Display the histogram of the samples, along with the probability density function:\n",
    "import matplotlib.pyplot as plt\n",
    "count, bins, ignored = plt.hist(profit_arr, 30, normed=True)\n",
    "plt.plot(bins, 1/(sigma * np.sqrt(2 * np.pi)) *\n",
    "                np.exp( - (bins - mu)**2 / (2 * sigma**2) ),\n",
    "         linewidth=2, color='r')\n",
    "plt.show()"
   ]
  },
  {
   "cell_type": "code",
   "execution_count": 12,
   "metadata": {},
   "outputs": [],
   "source": [
    "#uniform distribution\n",
    "headcount_df = pd.DataFrame(np.random.randint(5,1000,size=(len(df), 1)), columns=['Headcount'])"
   ]
  },
  {
   "cell_type": "code",
   "execution_count": 21,
   "metadata": {},
   "outputs": [],
   "source": [
    "#exponential distribution\n",
    "revenue_arr = np.random.exponential(2500000,size=(len(df))).round(2)\n",
    "revenue_df = pd.DataFrame(revenue_arr, columns=['Revenue'])"
   ]
  },
  {
   "cell_type": "code",
   "execution_count": 22,
   "metadata": {},
   "outputs": [
    {
     "data": {
      "image/png": "[encoded data removed]",
      "text/plain": [
       "<matplotlib.figure.Figure at 0x1e8264d6080>"
      ]
     },
     "metadata": {},
     "output_type": "display_data"
    }
   ],
   "source": [
    "count, bins, ignored = plt.hist(revenue_arr, 30, normed=True)"
   ]
  },
  {
   "cell_type": "code",
   "execution_count": 23,
   "metadata": {},
   "outputs": [],
   "source": [
    "companies_df = pd.concat([df, profit_df, headcount_df, revenue_df], axis=1)"
   ]
  },
  {
   "cell_type": "code",
   "execution_count": 24,
   "metadata": {},
   "outputs": [
    {
     "data": {
      "text/html": [
       "<div>\n",
       "<style scoped>\n",
       "    .dataframe tbody tr th:only-of-type {\n",
       "        vertical-align: middle;\n",
       "    }\n",
       "\n",
       "    .dataframe tbody tr th {\n",
       "        vertical-align: top;\n",
       "    }\n",
       "\n",
       "    .dataframe thead th {\n",
       "        text-align: right;\n",
       "    }\n",
       "</style>\n",
       "<table border=\"1\" class=\"dataframe\">\n",
       "  <thead>\n",
       "    <tr style=\"text-align: right;\">\n",
       "      <th></th>\n",
       "      <th>Company Trimmed</th>\n",
       "      <th>Profit</th>\n",
       "      <th>Headcount</th>\n",
       "      <th>Revenue</th>\n",
       "    </tr>\n",
       "  </thead>\n",
       "  <tbody>\n",
       "    <tr>\n",
       "      <th>0</th>\n",
       "      <td>MAPLES SA</td>\n",
       "      <td>40791.76</td>\n",
       "      <td>682.0</td>\n",
       "      <td>1545398.21</td>\n",
       "    </tr>\n",
       "    <tr>\n",
       "      <th>1</th>\n",
       "      <td>TRANSOIL SNG LIMITED COMPANY</td>\n",
       "      <td>17961.74</td>\n",
       "      <td>251.0</td>\n",
       "      <td>2083800.72</td>\n",
       "    </tr>\n",
       "    <tr>\n",
       "      <th>2</th>\n",
       "      <td>BANK ROSSIYA</td>\n",
       "      <td>42639.03</td>\n",
       "      <td>138.0</td>\n",
       "      <td>719969.62</td>\n",
       "    </tr>\n",
       "    <tr>\n",
       "      <th>3</th>\n",
       "      <td>GROUP OF COMPANIES TITAN JOINT STOCK COMPANY</td>\n",
       "      <td>35452.26</td>\n",
       "      <td>963.0</td>\n",
       "      <td>9449825.93</td>\n",
       "    </tr>\n",
       "    <tr>\n",
       "      <th>4</th>\n",
       "      <td>BASH-TITAN COMPANY LTD</td>\n",
       "      <td>29849.46</td>\n",
       "      <td>970.0</td>\n",
       "      <td>5509522.68</td>\n",
       "    </tr>\n",
       "    <tr>\n",
       "      <th>5</th>\n",
       "      <td>BIOTEKH</td>\n",
       "      <td>6322.30</td>\n",
       "      <td>567.0</td>\n",
       "      <td>1270057.08</td>\n",
       "    </tr>\n",
       "    <tr>\n",
       "      <th>6</th>\n",
       "      <td>INVESTKHIMPROM</td>\n",
       "      <td>10101.64</td>\n",
       "      <td>98.0</td>\n",
       "      <td>2110698.39</td>\n",
       "    </tr>\n",
       "    <tr>\n",
       "      <th>7</th>\n",
       "      <td>TITAN - AGRO LIMITED COMPANY</td>\n",
       "      <td>27488.38</td>\n",
       "      <td>509.0</td>\n",
       "      <td>1438226.27</td>\n",
       "    </tr>\n",
       "    <tr>\n",
       "      <th>8</th>\n",
       "      <td>LAZO-21</td>\n",
       "      <td>17926.19</td>\n",
       "      <td>473.0</td>\n",
       "      <td>2365654.25</td>\n",
       "    </tr>\n",
       "    <tr>\n",
       "      <th>9</th>\n",
       "      <td>TSENTR TRANSFERA INNOVATSIONNYKH TEKHNOLOGII</td>\n",
       "      <td>31261.36</td>\n",
       "      <td>169.0</td>\n",
       "      <td>2457506.69</td>\n",
       "    </tr>\n",
       "  </tbody>\n",
       "</table>\n",
       "</div>"
      ],
      "text/plain": [
       "                                Company Trimmed    Profit  Headcount  \\\n",
       "0                                     MAPLES SA  40791.76      682.0   \n",
       "1                  TRANSOIL SNG LIMITED COMPANY  17961.74      251.0   \n",
       "2                                  BANK ROSSIYA  42639.03      138.0   \n",
       "3  GROUP OF COMPANIES TITAN JOINT STOCK COMPANY  35452.26      963.0   \n",
       "4                        BASH-TITAN COMPANY LTD  29849.46      970.0   \n",
       "5                                       BIOTEKH   6322.30      567.0   \n",
       "6                                INVESTKHIMPROM  10101.64       98.0   \n",
       "7                  TITAN - AGRO LIMITED COMPANY  27488.38      509.0   \n",
       "8                                       LAZO-21  17926.19      473.0   \n",
       "9  TSENTR TRANSFERA INNOVATSIONNYKH TEKHNOLOGII  31261.36      169.0   \n",
       "\n",
       "      Revenue  \n",
       "0  1545398.21  \n",
       "1  2083800.72  \n",
       "2   719969.62  \n",
       "3  9449825.93  \n",
       "4  5509522.68  \n",
       "5  1270057.08  \n",
       "6  2110698.39  \n",
       "7  1438226.27  \n",
       "8  2365654.25  \n",
       "9  2457506.69  "
      ]
     },
     "execution_count": 24,
     "metadata": {},
     "output_type": "execute_result"
    }
   ],
   "source": [
    "companies_df.head(10)"
   ]
  }
 ],
 "metadata": {
  "kernelspec": {
   "display_name": "Python 3",
   "language": "python",
   "name": "python3"
  },
  "language_info": {
   "codemirror_mode": {
    "name": "ipython",
    "version": 3
   },
   "file_extension": ".py",
   "mimetype": "text/x-python",
   "name": "python",
   "nbconvert_exporter": "python",
   "pygments_lexer": "ipython3",
   "version": "3.6.4"
  }
 },
 "nbformat": 4,
 "nbformat_minor": 2
}
